{
 "cells": [
  {
   "cell_type": "code",
   "execution_count": 2,
   "metadata": {},
   "outputs": [],
   "source": [
    "from simsopt.geo import CurveCWS\n",
    "from pathlib import Path\n",
    "import numpy as np\n",
    "from scipy.optimize import minimize\n",
    "from simsopt.geo import SurfaceRZFourier, create_equally_spaced_curves, \\\n",
    "   CurveLength, curves_to_vtk\n",
    "from simsopt.field import coils_via_symmetries\n",
    "from simsopt.objectives import SquaredFlux, QuadraticPenalty\n",
    "\n",
    "from simsopt.field import Current, Coil, BiotSavart\n",
    "from simsopt.geo import CurveRZFourier, plot\n",
    "from simsopt.field import BiotSavart "
   ]
  },
  {
   "cell_type": "code",
   "execution_count": 3,
   "metadata": {},
   "outputs": [],
   "source": [
    "ntheta = 32\n",
    "nphi = 32\n",
    "filename = \"/home/joaobiu/PIC/vmec_equilibria/W7-X/Standard/wout.nc\"\n",
    "s = SurfaceRZFourier.from_wout(filename, range=\"full torus\", ntheta=ntheta, nphi=nphi) #range = 'full torus', 'field period', 'half period'\n",
    "#s.plot(engine=\"plotly\") #plotly, mayavi, matplotlib\n",
    "surfacedofs = s.get_dofs()\n",
    "\n",
    "surf=[1, 0.1, 0.1, 1]\n",
    "\n",
    "cws = CurveCWS(1, 1, [1, 1, 1, 1, 1, 1], 20, 1, 2, True)\n",
    "#cur = cws.get_dofs()\n"
   ]
  },
  {
   "cell_type": "code",
   "execution_count": 5,
   "metadata": {},
   "outputs": [
    {
     "ename": "NameError",
     "evalue": "name 'R1' is not defined",
     "output_type": "error",
     "traceback": [
      "\u001b[0;31m---------------------------------------------------------------------------\u001b[0m",
      "\u001b[0;31mNameError\u001b[0m                                 Traceback (most recent call last)",
      "Cell \u001b[0;32mIn [5], line 12\u001b[0m\n\u001b[1;32m      8\u001b[0m order \u001b[39m=\u001b[39m \u001b[39m1\u001b[39m\n\u001b[1;32m     10\u001b[0m rz \u001b[39m=\u001b[39m CurveRZFourier(\u001b[39m20\u001b[39m, \u001b[39m1\u001b[39m, \u001b[39m1\u001b[39m, \u001b[39mTrue\u001b[39;00m)\n\u001b[0;32m---> 12\u001b[0m base_curves \u001b[39m=\u001b[39m create_equally_spaced_curves(ncoils, s\u001b[39m.\u001b[39mnfp, stellsym\u001b[39m=\u001b[39m\u001b[39mTrue\u001b[39;00m, R0\u001b[39m=\u001b[39mR0, R1\u001b[39m=\u001b[39mR1, order\u001b[39m=\u001b[39morder)\n\u001b[1;32m     13\u001b[0m base_currents \u001b[39m=\u001b[39m [Current(\u001b[39m1.0\u001b[39m) \u001b[39m*\u001b[39m \u001b[39m1e5\u001b[39m \u001b[39mfor\u001b[39;00m i \u001b[39min\u001b[39;00m \u001b[39mrange\u001b[39m(ncoils)]\n",
      "\u001b[0;31mNameError\u001b[0m: name 'R1' is not defined"
     ]
    }
   ],
   "source": [
    "# Number of unique coil shapes:\n",
    "ncoils = 4\n",
    "# Major radius for the initial circular coils:\n",
    "R0 = s.get_rc(0,0)\n",
    "# Minor radius for the initial circular coils:\n",
    "\n",
    "# Number of Fourier modes describing each Cartesian component of each coil:\n",
    "order = 1\n",
    "\n",
    "rz = CurveRZFourier(20, 1, 1, True)\n",
    "\n",
    "base_curves = create_equally_spaced_curves(ncoils, s.nfp, stellsym=True, R0=R0, R1=R1, order=order)\n",
    "base_currents = [Current(1.0) * 1e5 for i in range(ncoils)]"
   ]
  },
  {
   "cell_type": "code",
   "execution_count": 34,
   "metadata": {},
   "outputs": [],
   "source": [
    "base_currents[0].fix_all()\n",
    "coils = coils_via_symmetries(base_curves, base_currents, s.nfp, True)\n",
    "plot(coils + [s], engine=\"mayavi\", close=True)"
   ]
  }
 ],
 "metadata": {
  "kernelspec": {
   "display_name": "Python 3.10.6 64-bit",
   "language": "python",
   "name": "python3"
  },
  "language_info": {
   "codemirror_mode": {
    "name": "ipython",
    "version": 3
   },
   "file_extension": ".py",
   "mimetype": "text/x-python",
   "name": "python",
   "nbconvert_exporter": "python",
   "pygments_lexer": "ipython3",
   "version": "3.10.4"
  },
  "orig_nbformat": 4,
  "vscode": {
   "interpreter": {
    "hash": "31f2aee4e71d21fbe5cf8b01ff0e069b9275f58929596ceb00d14d90e3e16cd6"
   }
  }
 },
 "nbformat": 4,
 "nbformat_minor": 2
}
