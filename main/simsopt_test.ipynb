{
 "cells": [
  {
   "cell_type": "code",
   "execution_count": 16,
   "metadata": {},
   "outputs": [],
   "source": [
    "import os\n",
    "from pathlib import Path\n",
    "import numpy as np\n",
    "from scipy.optimize import minimize\n",
    "\n",
    "from simsopt.geo import SurfaceRZFourier, create_equally_spaced_curves, \\\n",
    "    CurveLength, curves_to_vtk\n",
    "from simsopt.field import coils_via_symmetries\n",
    "from simsopt.objectives import SquaredFlux, QuadraticPenalty\n",
    "\n",
    "from simsopt.field import Current, Coil, BiotSavart\n",
    "from simsopt.geo import CurveXYZFourier, plot\n",
    "from simsopt.field import BiotSavart"
   ]
  },
  {
   "cell_type": "code",
   "execution_count": 30,
   "metadata": {},
   "outputs": [
    {
     "name": "stdout",
     "output_type": "stream",
     "text": [
      "5.519847499750201\n"
     ]
    }
   ],
   "source": [
    "ntheta = 32\n",
    "nphi = 32\n",
    "filename = \"/home/joaobiu/PIC/vmec_equilibria/W7-X/Standard/wout.nc\"\n",
    "s = SurfaceRZFourier.from_wout(filename, range=\"full torus\", ntheta=ntheta, nphi=nphi) #range = 'full torus', 'field period', 'half period'\n",
    "#s.plot(engine=\"plotly\") #plotly, mayavi, matplotlib\n",
    "\n",
    "print(s.get_rc(0,0))\n",
    "#s.get_rs(0,0)"
   ]
  },
  {
   "cell_type": "code",
   "execution_count": null,
   "metadata": {},
   "outputs": [],
   "source": [
    "# Number of unique coil shapes:\n",
    "ncoils = 4\n",
    "# Major radius for the initial circular coils:\n",
    "R0 = s.get_rc(0,0)\n",
    "# Minor radius for the initial circular coils:\n",
    "R1 = 1.5\n",
    "\n",
    "# Number of Fourier modes describing each Cartesian component of each coil:\n",
    "order = 1\n",
    "\n",
    "base_curves = create_equally_spaced_curves(ncoils, s.nfp, stellsym=True, R0=R0, R1=R1, order=order)\n",
    "base_currents = [Current(1.0) * 1e5 for i in range(ncoils)]\n",
    "plot(base_curves + [s], engine=\"mayavi\")"
   ]
  },
  {
   "cell_type": "code",
   "execution_count": 34,
   "metadata": {},
   "outputs": [],
   "source": [
    "base_currents[0].fix_all()\n",
    "coils = coils_via_symmetries(base_curves, base_currents, s.nfp, True)\n",
    "plot(coils + [s], engine=\"mayavi\", close=True)"
   ]
  }
 ],
 "metadata": {
  "kernelspec": {
   "display_name": "Python 3.10.6 64-bit",
   "language": "python",
   "name": "python3"
  },
  "language_info": {
   "codemirror_mode": {
    "name": "ipython",
    "version": 3
   },
   "file_extension": ".py",
   "mimetype": "text/x-python",
   "name": "python",
   "nbconvert_exporter": "python",
   "pygments_lexer": "ipython3",
   "version": "3.10.6"
  },
  "orig_nbformat": 4,
  "vscode": {
   "interpreter": {
    "hash": "31f2aee4e71d21fbe5cf8b01ff0e069b9275f58929596ceb00d14d90e3e16cd6"
   }
  }
 },
 "nbformat": 4,
 "nbformat_minor": 2
}
