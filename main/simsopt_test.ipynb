{
 "cells": [
  {
   "cell_type": "code",
   "execution_count": 1,
   "metadata": {},
   "outputs": [],
   "source": [
    "from simsopt.geo import CurveCWS\n",
    "from pathlib import Path\n",
    "import numpy as np\n",
    "from scipy.optimize import minimize\n",
    "from simsopt.geo import SurfaceRZFourier, create_equally_spaced_curves, \\\n",
    "   CurveLength, curves_to_vtk\n",
    "from simsopt.field import coils_via_symmetries\n",
    "from simsopt.objectives import SquaredFlux, QuadraticPenalty\n",
    "\n",
    "from simsopt.field import Current, Coil, BiotSavart\n",
    "from simsopt.geo import CurveRZFourier, plot\n",
    "from simsopt.field import BiotSavart "
   ]
  },
  {
   "cell_type": "code",
   "execution_count": 1,
   "metadata": {},
   "outputs": [
    {
     "ename": "NameError",
     "evalue": "name 'SurfaceRZFourier' is not defined",
     "output_type": "error",
     "traceback": [
      "\u001b[0;31m---------------------------------------------------------------------------\u001b[0m",
      "\u001b[0;31mNameError\u001b[0m                                 Traceback (most recent call last)",
      "Cell \u001b[0;32mIn [1], line 4\u001b[0m\n\u001b[1;32m      2\u001b[0m nphi \u001b[39m=\u001b[39m \u001b[39m32\u001b[39m\n\u001b[1;32m      3\u001b[0m filename \u001b[39m=\u001b[39m \u001b[39m\"\u001b[39m\u001b[39m/home/joaobiu/PIC/vmec_equilibria/W7-X/Standard/wout.nc\u001b[39m\u001b[39m\"\u001b[39m\n\u001b[0;32m----> 4\u001b[0m s \u001b[39m=\u001b[39m SurfaceRZFourier\u001b[39m.\u001b[39mfrom_wout(filename, \u001b[39mrange\u001b[39m\u001b[39m=\u001b[39m\u001b[39m\"\u001b[39m\u001b[39mfull torus\u001b[39m\u001b[39m\"\u001b[39m, ntheta\u001b[39m=\u001b[39mntheta, nphi\u001b[39m=\u001b[39mnphi) \u001b[39m#range = 'full torus', 'field period', 'half period'\u001b[39;00m\n\u001b[1;32m      5\u001b[0m \u001b[39m#s.plot(engine=\"plotly\") #plotly, mayavi, matplotlib\u001b[39;00m\n\u001b[1;32m      6\u001b[0m surfacedofs \u001b[39m=\u001b[39m s\u001b[39m.\u001b[39mget_dofs()\n",
      "\u001b[0;31mNameError\u001b[0m: name 'SurfaceRZFourier' is not defined"
     ]
    }
   ],
   "source": [
    "ntheta = 32\n",
    "nphi = 32\n",
    "filename = \"/home/joaobiu/PIC/vmec_equilibria/W7-X/Standard/wout.nc\"\n",
    "s = SurfaceRZFourier.from_wout(filename, range=\"full torus\", ntheta=ntheta, nphi=nphi) #range = 'full torus', 'field period', 'half period'\n",
    "#s.plot(engine=\"plotly\") #plotly, mayavi, matplotlib\n",
    "surfacedofs = s.get_dofs()\n",
    "\n",
    "surf=[1, 0.1, 0.1, 1]\n",
    "\n",
    "cws = CurveCWS(1, 1, [1, 1, 1, 1, 1, 1], 20, 1, 2, True)\n",
    "#cur = cws.get_dofs()\n"
   ]
  },
  {
   "cell_type": "code",
   "execution_count": 8,
   "metadata": {},
   "outputs": [],
   "source": [
    "# Number of unique coil shapes:\n",
    "ncoils = 4\n",
    "# Major radius for the initial circular coils:\n",
    "R0 = s.get_rc(0,0)\n",
    "# Minor radius for the initial circular coils:\n",
    "R1 = 1.5\n",
    "\n",
    "# Number of Fourier modes describing each Cartesian component of each coil:\n",
    "order = 1\n",
    "\n",
    "rz = CurveRZFourier(20, 1, 1, True)\n",
    "\n",
    "base_curves = create_equally_spaced_curves(ncoils, s.nfp, stellsym=True, R0=R0, R1=R1, order=order)\n",
    "base_currents = [Current(1.0) * 1e5 for i in range(ncoils)]"
   ]
  },
  {
   "cell_type": "code",
   "execution_count": 34,
   "metadata": {},
   "outputs": [],
   "source": [
    "base_currents[0].fix_all()\n",
    "coils = coils_via_symmetries(base_curves, base_currents, s.nfp, True)\n",
    "plot(coils + [s], engine=\"mayavi\", close=True)"
   ]
  }
 ],
 "metadata": {
  "kernelspec": {
   "display_name": "Python 3.10.6 64-bit",
   "language": "python",
   "name": "python3"
  },
  "language_info": {
   "codemirror_mode": {
    "name": "ipython",
    "version": 3
   },
   "file_extension": ".py",
   "mimetype": "text/x-python",
   "name": "python",
   "nbconvert_exporter": "python",
   "pygments_lexer": "ipython3",
   "version": "3.10.4"
  },
  "orig_nbformat": 4,
  "vscode": {
   "interpreter": {
    "hash": "31f2aee4e71d21fbe5cf8b01ff0e069b9275f58929596ceb00d14d90e3e16cd6"
   }
  }
 },
 "nbformat": 4,
 "nbformat_minor": 2
}
