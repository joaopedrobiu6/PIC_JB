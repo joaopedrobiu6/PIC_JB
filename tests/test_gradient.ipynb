{
 "cells": [
  {
   "cell_type": "code",
   "execution_count": 2,
   "metadata": {},
   "outputs": [],
   "source": [
    "from simsopt.geo import CurveCWSFourier, SurfaceRZFourier\n",
    "import numpy as np\n",
    "\n",
    "# CREATE CWS\n",
    "dofs = [1, 0.1, 0.1] # RBC00, RBC10, ZBS10\n",
    "quadpoints_phi = np.arange(0, 64, 1)\n",
    "quadpoints_theta = quadpoints_phi.copy()\n",
    "surf = SurfaceRZFourier(nfp=1, stellsym=True, mpol=1, ntor=0, quadpoints_phi=quadpoints_phi, quadpoints_theta=quadpoints_theta)\n",
    "surf.set_dofs(dofs)\n",
    "\n",
    "curve_cws = CurveCWSFourier(surf.mpol, surf.ntor, surf.x, 64, 1, surf.nfp, surf.stellsym)\n",
    "curve_cws.set_dofs([1, 0, 0.1, 0, 1, 0, 0.1, 0])"
   ]
  },
  {
   "cell_type": "code",
   "execution_count": 7,
   "metadata": {},
   "outputs": [
    {
     "data": {
      "text/plain": [
       "array([-3.71037985e-09, -4.42739743e-08, -1.05639815e-08,  1.96849691e-09,\n",
       "        1.31448574e-08, -2.73153003e-07,  2.18899818e-07,  8.64000878e-09])"
      ]
     },
     "execution_count": 7,
     "metadata": {},
     "output_type": "execute_result"
    }
   ],
   "source": [
    "py = curve_cws.dgamma_by_dcoeff()[1][0]\n",
    "mat = [-0.00189067, -0.0192582, -0.0191655, -0.00188764, -0.021173, -0.215666, -0.214628, -0.021139]\n",
    "py-mat"
   ]
  },
  {
   "cell_type": "code",
   "execution_count": 3,
   "metadata": {},
   "outputs": [
    {
     "name": "stdout",
     "output_type": "stream",
     "text": [
      "['SurfaceRZFourier1:rc(0,0)', 'SurfaceRZFourier1:rc(1,0)', 'SurfaceRZFourier1:zs(1,0)']\n",
      "[-6.15793992e-001 -6.15793992e-001 -6.24138110e-002  0.00000000e+000\n",
      " -1.53160350e-322 -4.78057919e-320  0.00000000e+000  0.00000000e+000]\n"
     ]
    }
   ],
   "source": [
    "print(surf.dof_names)\n",
    "\n",
    "print(curve_cws.dgammadash_by_dcoeff()[0][0])"
   ]
  },
  {
   "cell_type": "code",
   "execution_count": 4,
   "metadata": {},
   "outputs": [],
   "source": [
    "mat = [-0.0624138, -0.615794, -0.615794, -0.0624138, -0.689686, -6.86759, -6.86759, -0.689686]\n",
    "py = curve_cws.dgammadash_by_dcoeff()[0][0]"
   ]
  },
  {
   "cell_type": "code",
   "execution_count": 5,
   "metadata": {},
   "outputs": [
    {
     "data": {
      "text/plain": [
       "array([ 5.53380192e-01, -7.80501308e-09, -5.53380189e-01, -6.24138000e-02,\n",
       "       -6.89686000e-01, -6.86759000e+00, -6.86759000e+00, -6.89686000e-01])"
      ]
     },
     "execution_count": 5,
     "metadata": {},
     "output_type": "execute_result"
    }
   ],
   "source": [
    "mat-py"
   ]
  }
 ],
 "metadata": {
  "kernelspec": {
   "display_name": "Python 3",
   "language": "python",
   "name": "python3"
  },
  "language_info": {
   "codemirror_mode": {
    "name": "ipython",
    "version": 3
   },
   "file_extension": ".py",
   "mimetype": "text/x-python",
   "name": "python",
   "nbconvert_exporter": "python",
   "pygments_lexer": "ipython3",
   "version": "3.10.4"
  },
  "orig_nbformat": 4
 },
 "nbformat": 4,
 "nbformat_minor": 2
}
