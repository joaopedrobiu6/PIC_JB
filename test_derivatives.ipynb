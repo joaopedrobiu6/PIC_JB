{
 "cells": [
  {
   "cell_type": "code",
   "execution_count": 1,
   "metadata": {},
   "outputs": [],
   "source": [
    "import matplotlib.pyplot as plt\n",
    "import numpy as np\n",
    "from simsopt.geo import CurveCWSFourier, SurfaceRZFourier, CurveXYZFourier"
   ]
  },
  {
   "cell_type": "code",
   "execution_count": 2,
   "metadata": {},
   "outputs": [],
   "source": [
    "\n",
    "###################################################\n",
    "###################################################\n",
    "##################CurveCWSFourier##################\n",
    "###################################################\n",
    "###################################################\n",
    "\n",
    "# CWS\n",
    "s = SurfaceRZFourier.from_nphi_ntheta(150, 150, \"full torus\", 1)\n",
    "R = s.get_rc(0, 0)\n",
    "s.set_dofs([R, 1, 1])\n",
    "\n",
    "# CWS CURVE\n",
    "c_cws = CurveCWSFourier(s.mpol, s.ntor, s.x, 1, 1, s.nfp, s.stellsym)\n",
    "c_cws.set_dofs([1, 1, 1, 1, 1, 1, 1, 1]) # [th_l, th_c0, phi_l, phi_c0]\n",
    "\n",
    "###################################################\n",
    "###################################################\n",
    "##################CurveXYZFourier##################\n",
    "###################################################\n",
    "###################################################\n",
    "\n",
    "c_xyz = CurveXYZFourier(1, 10)\n",
    "c_xyz.set(\"xc(0)\", R)\n",
    "c_xyz.set(\"xc(1)\", 1)\n",
    "c_xyz.set(\"yc(0)\", 0)\n",
    "c_xyz.set(\"yc(1)\", 0)\n",
    "c_xyz.set(\"zs(1)\", 1)"
   ]
  },
  {
   "cell_type": "code",
   "execution_count": 3,
   "metadata": {},
   "outputs": [
    {
     "data": {
      "text/plain": [
       "array([1., 1., 1.])"
      ]
     },
     "execution_count": 3,
     "metadata": {},
     "output_type": "execute_result"
    }
   ],
   "source": [
    "s.get_dofs()"
   ]
  },
  {
   "cell_type": "code",
   "execution_count": 4,
   "metadata": {},
   "outputs": [
    {
     "name": "stdout",
     "output_type": "stream",
     "text": [
      "[[[-0.          0.37840125  0.37840125 -0.         -0.\n",
      "   -0.53089618 -0.53089618 -0.        ]\n",
      "  [ 0.         -0.82682181 -0.82682181  0.          0.\n",
      "   -0.24296865 -0.24296865  0.        ]\n",
      "  [ 0.         -0.41614684 -0.41614684  0.          0.\n",
      "    0.          0.          0.        ]]]\n"
     ]
    }
   ],
   "source": [
    "\"\"\"\n",
    "Compute dgamma_by_dcoeff, dgammadash_by_dcoeff, dgammadashdash_by_dcoeff, dgammadashdashdash_by_dcoeff\n",
    "\"\"\"\n",
    "\n",
    "cws_dgamma_by_dcoeff = c_cws.dgamma_by_dcoeff()\n",
    "print(cws_dgamma_by_dcoeff)"
   ]
  },
  {
   "cell_type": "code",
   "execution_count": 5,
   "metadata": {},
   "outputs": [
    {
     "name": "stdout",
     "output_type": "stream",
     "text": [
      "[[[  2.37756516   8.21392799   8.21392799   2.37756516  -3.33571907\n",
      "    13.44338337  13.44338337  -3.33571907]\n",
      "  [ -5.19507465   9.51026064   9.51026064  -5.19507465  -1.52661703\n",
      "    -1.91630783  -1.91630783  -1.52661703]\n",
      "  [ -2.61472769 -11.42656846 -11.42656846  -2.61472769   0.\n",
      "     0.           0.           0.        ]]]\n",
      "(1, 3, 8)\n"
     ]
    }
   ],
   "source": [
    "cws_dgammadash_by_dcoeff = c_cws.dgammadash_by_dcoeff()\n",
    "print(cws_dgammadash_by_dcoeff)\n",
    "print(cws_dgammadash_by_dcoeff.shape)"
   ]
  },
  {
   "cell_type": "code",
   "execution_count": 6,
   "metadata": {},
   "outputs": [
    {
     "name": "stdout",
     "output_type": "stream",
     "text": [
      "[[[ 103.21926332 -264.82373546 -279.76241794  103.21926332  168.93453771\n",
      "   -137.66205989 -116.70311882  168.93453771]\n",
      "  [ 119.50945982  176.56116168  209.20277839  119.50945982  -24.08103436\n",
      "    278.17405961  287.76607732  -24.08103436]\n",
      "  [-143.59049417  101.61289793  118.04171653 -143.59049417    0.\n",
      "      0.            0.            0.        ]]]\n"
     ]
    }
   ],
   "source": [
    "cws_dgammadashdash_by_dcoeff = c_cws.dgammadashdash_by_dcoeff()\n",
    "print(cws_dgammadashdash_by_dcoeff)"
   ]
  },
  {
   "cell_type": "code",
   "execution_count": 7,
   "metadata": {},
   "outputs": [
    {
     "name": "stdout",
     "output_type": "stream",
     "text": [
      "[[[-4991.80981089 -3097.80226319 -4070.62090121 -5085.67232114\n",
      "       0.             0.             0.             0.        ]\n",
      "  [ 3328.09949061 -8140.56295238 -9266.91307535  3533.19281716\n",
      "       0.             0.             0.             0.        ]\n",
      "  [ 1915.35800197  1410.61091749  2763.91944233  2018.5833136\n",
      "       0.             0.             0.             0.        ]]]\n"
     ]
    }
   ],
   "source": [
    "cws_dgammadashdashdash_by_dcoeff = c_cws.dgammadashdashdash_by_dcoeff()\n",
    "print(cws_dgammadashdashdash_by_dcoeff)"
   ]
  },
  {
   "cell_type": "code",
   "execution_count": null,
   "metadata": {},
   "outputs": [],
   "source": []
  }
 ],
 "metadata": {
  "kernelspec": {
   "display_name": "base",
   "language": "python",
   "name": "python3"
  },
  "language_info": {
   "codemirror_mode": {
    "name": "ipython",
    "version": 3
   },
   "file_extension": ".py",
   "mimetype": "text/x-python",
   "name": "python",
   "nbconvert_exporter": "python",
   "pygments_lexer": "ipython3",
   "version": "3.12.2"
  }
 },
 "nbformat": 4,
 "nbformat_minor": 2
}
