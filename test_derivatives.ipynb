{
 "cells": [
  {
   "cell_type": "code",
   "execution_count": 1,
   "metadata": {},
   "outputs": [],
   "source": [
    "import matplotlib.pyplot as plt\n",
    "import numpy as np\n",
    "from simsopt.geo import CurveCWSFourier, SurfaceRZFourier, CurveXYZFourier"
   ]
  },
  {
   "cell_type": "code",
   "execution_count": 2,
   "metadata": {},
   "outputs": [],
   "source": [
    "\n",
    "###################################################\n",
    "###################################################\n",
    "##################CurveCWSFourier##################\n",
    "###################################################\n",
    "###################################################\n",
    "\n",
    "# CWS\n",
    "s = SurfaceRZFourier.from_nphi_ntheta(150, 150, \"full torus\", 1)\n",
    "R = s.get_rc(0, 0)\n",
    "s.set_dofs([R, 1, 1])\n",
    "\n",
    "# CWS CURVE\n",
    "c_cws = CurveCWSFourier(s.mpol, s.ntor, s.x, 1, 1, s.nfp, s.stellsym)\n",
    "c_cws.set_dofs([10, 10, 10, 1, 10, 1, 1, 1]) # [th_l, th_c0, phi_l, phi_c0]\n",
    "\n",
    "###################################################\n",
    "###################################################\n",
    "##################CurveXYZFourier##################\n",
    "###################################################\n",
    "###################################################\n",
    "\n",
    "c_xyz = CurveXYZFourier(1, 10)\n",
    "c_xyz.set(\"xc(0)\", R)\n",
    "c_xyz.set(\"xc(1)\", 1)\n",
    "c_xyz.set(\"yc(0)\", 0)\n",
    "c_xyz.set(\"yc(1)\", 0)\n",
    "c_xyz.set(\"zs(1)\", 1)"
   ]
  },
  {
   "cell_type": "code",
   "execution_count": 3,
   "metadata": {},
   "outputs": [
    {
     "data": {
      "text/plain": [
       "array([1., 1., 1.])"
      ]
     },
     "execution_count": 3,
     "metadata": {},
     "output_type": "execute_result"
    }
   ],
   "source": [
    "s.get_dofs()"
   ]
  },
  {
   "cell_type": "code",
   "execution_count": 4,
   "metadata": {},
   "outputs": [
    {
     "name": "stdout",
     "output_type": "stream",
     "text": [
      "[[[-0.          0.37991928  0.37991928 -0.         -0.\n",
      "   -1.2803654  -1.2803654  -0.        ]\n",
      "  [ 0.         -0.83013877 -0.83013877  0.          0.\n",
      "   -0.5859689  -0.5859689   0.        ]\n",
      "  [ 0.          0.40808206  0.40808206  0.          0.\n",
      "    0.          0.          0.        ]]]\n"
     ]
    }
   ],
   "source": [
    "\"\"\"\n",
    "Compute dgamma_by_dcoeff, dgammadash_by_dcoeff, dgammadashdash_by_dcoeff, dgammadashdashdash_by_dcoeff\n",
    "\"\"\"\n",
    "\n",
    "cws_dgamma_by_dcoeff = c_cws.dgamma_by_dcoeff()\n",
    "print(cws_dgamma_by_dcoeff)"
   ]
  },
  {
   "cell_type": "code",
   "execution_count": 5,
   "metadata": {},
   "outputs": [
    {
     "name": "stdout",
     "output_type": "stream",
     "text": [
      "[[[  2.38710323  69.11233089  69.11233089   2.38710323  -8.04477304\n",
      "    97.87433547  97.87433547  -8.04477304]\n",
      "  [ -5.21591571   0.61175858   0.61175858  -5.21591571  -3.68175116\n",
      "   -62.23436797 -62.23436797  -3.68175116]\n",
      "  [  2.56405521 -63.09824604 -63.09824604   2.56405521   0.\n",
      "     0.           0.           0.        ]]]\n",
      "(1, 3, 8)\n"
     ]
    }
   ],
   "source": [
    "cws_dgammadash_by_dcoeff = c_cws.dgammadash_by_dcoeff()\n",
    "print(cws_dgammadash_by_dcoeff)\n",
    "print(cws_dgammadash_by_dcoeff.shape)"
   ]
  },
  {
   "cell_type": "code",
   "execution_count": 6,
   "metadata": {},
   "outputs": [
    {
     "name": "stdout",
     "output_type": "stream",
     "text": [
      "[[[ 8.68491164e+02 -1.84379062e+02 -1.99377674e+02  8.68491164e+02\n",
      "    1.22992517e+03  3.90819024e+03  3.95873704e+03  1.22992517e+03]\n",
      "  [ 7.68758506e+00  9.68489595e+03  9.71766852e+03  7.68758506e+00\n",
      "   -7.82060133e+02  1.14418505e+04  1.14649837e+04 -7.82060133e+02]\n",
      "  [-7.92915945e+02 -1.58894618e+03 -1.60505662e+03 -7.92915945e+02\n",
      "    0.00000000e+00  0.00000000e+00  0.00000000e+00  0.00000000e+00]]]\n"
     ]
    }
   ],
   "source": [
    "cws_dgammadashdash_by_dcoeff = c_cws.dgammadashdash_by_dcoeff()\n",
    "print(cws_dgammadashdash_by_dcoeff)"
   ]
  },
  {
   "cell_type": "code",
   "execution_count": 7,
   "metadata": {},
   "outputs": [
    {
     "name": "stdout",
     "output_type": "stream",
     "text": [
      "[[[   -3475.46344452 -1320018.65183841 -1328203.98822032\n",
      "      -3569.70250253    73667.65046211 -1464957.96381473\n",
      "   -1476549.73548038    73985.24537176]\n",
      "  [  182555.98789322  -101730.10597114  -101802.55975338\n",
      "     182761.90399164   215673.80151187   195297.95125968\n",
      "     202668.69436406   215819.1512215 ]\n",
      "  [  -29950.92991102   335043.9420897    342516.99881174\n",
      "     -30052.15475355        0.                0.\n",
      "          0.                0.        ]]]\n"
     ]
    }
   ],
   "source": [
    "cws_dgammadashdashdash_by_dcoeff = c_cws.dgammadashdashdash_by_dcoeff()\n",
    "print(cws_dgammadashdashdash_by_dcoeff)"
   ]
  },
  {
   "cell_type": "code",
   "execution_count": null,
   "metadata": {},
   "outputs": [],
   "source": []
  }
 ],
 "metadata": {
  "kernelspec": {
   "display_name": "base",
   "language": "python",
   "name": "python3"
  },
  "language_info": {
   "codemirror_mode": {
    "name": "ipython",
    "version": 3
   },
   "file_extension": ".py",
   "mimetype": "text/x-python",
   "name": "python",
   "nbconvert_exporter": "python",
   "pygments_lexer": "ipython3",
   "version": "3.12.2"
  }
 },
 "nbformat": 4,
 "nbformat_minor": 2
}
