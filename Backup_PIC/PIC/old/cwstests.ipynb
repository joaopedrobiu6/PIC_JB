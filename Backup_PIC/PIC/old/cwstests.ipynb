{
 "cells": [
  {
   "cell_type": "code",
   "execution_count": 1,
   "metadata": {},
   "outputs": [],
   "source": [
    "from simsopt.geo import CurveCWS\n",
    "from simsopt.geo import SurfaceRZFourier\n",
    "import matplotlib.pyplot as plt\n",
    "import numpy as np"
   ]
  },
  {
   "cell_type": "code",
   "execution_count": 2,
   "metadata": {},
   "outputs": [
    {
     "name": "stdout",
     "output_type": "stream",
     "text": [
      "15\n"
     ]
    }
   ],
   "source": [
    "#/home/joaobiu/simsopt_curvecws/tests/test_files\n",
    "filename = \"/home/joaobiu/simsopt_curvecws/tests/test_files/wout_circular_tokamak_reference.nc\"\n",
    "#filename = \"~/simsopt /test_files/wout_W7-X_without_coil_ripple_beta0p05_d23p4_tm_reference.nc\"\n",
    "# filename = \"../test_files/wout_n3are_R7.75B5.7.nc\"\n",
    "\n",
    "\n",
    "s = SurfaceRZFourier.from_wout(filename, range=\"full torus\", ntheta=32, nphi=32)  # range = 'full torus', 'field period', 'half period'\n",
    "\n",
    "\n",
    "sdofs = s.get_dofs()\n",
    "print(sdofs.size)\n",
    "\n",
    "cws = CurveCWS(mpol=s.mpol, ntor=s.ntor, idofs=sdofs, numquadpoints=100, order=1, nfp=s.nfp, stellsym=s.stellsym)\n",
    "# cws.set_dofs([1, 0, 0, 0])\n",
    "\n"
   ]
  },
  {
   "cell_type": "code",
   "execution_count": 3,
   "metadata": {},
   "outputs": [],
   "source": [
    "phi_array = np.linspace(0, 2 * np.pi, 10)\n",
    "fig = plt.figure()\n",
    "ax = fig.add_subplot(projection=\"3d\")\n",
    "ax.set_xlim3d(-7.5, 7.5)\n",
    "ax.set_ylim3d(-7.5, 7.5)\n",
    "ax.set_zlim3d(-7.5, 7.5)\n",
    "for phi in phi_array:\n",
    "    # print(phi)\n",
    "    cws.set_dofs([1, 0, 0, 0, 0, phi, 0, 0])\n",
    "    gamma = cws.gamma()\n",
    "    x = gamma[:, 0]\n",
    "    y = gamma[:, 1]\n",
    "    z = gamma[:, 2]\n",
    "    ax.plot(x, y, z)\n",
    "\"\"\"     cws.set_dofs([1, 0, 0, 0, 0, phi, 1, 0])\n",
    "    gamma = cws.gamma()\n",
    "    x = gamma[:, 0]\n",
    "    y = gamma[:, 1]\n",
    "    z = gamma[:, 2]\n",
    "    ax.plot(x, y, z) \"\"\"\n",
    "\n",
    "print(s.get_dofs().size)\n",
    "\n",
    "\n",
    "s.plot(ax=ax, show=False, alpha=0.2)\n",
    "# cws.plot()\n",
    "# print(cws.gamma())\n",
    "# plt.plot(cws.gamma())\n",
    "plt.show()"
   ]
  },
  {
   "cell_type": "code",
   "execution_count": null,
   "metadata": {},
   "outputs": [],
   "source": []
  }
 ],
 "metadata": {
  "kernelspec": {
   "display_name": "Python 3",
   "language": "python",
   "name": "python3"
  },
  "language_info": {
   "codemirror_mode": {
    "name": "ipython",
    "version": 3
   },
   "file_extension": ".py",
   "mimetype": "text/x-python",
   "name": "python",
   "nbconvert_exporter": "python",
   "pygments_lexer": "ipython3",
   "version": "3.10.4 (main, Apr  2 2022, 09:04:19) [GCC 11.2.0]"
  },
  "orig_nbformat": 4,
  "vscode": {
   "interpreter": {
    "hash": "31f2aee4e71d21fbe5cf8b01ff0e069b9275f58929596ceb00d14d90e3e16cd6"
   }
  }
 },
 "nbformat": 4,
 "nbformat_minor": 2
}
