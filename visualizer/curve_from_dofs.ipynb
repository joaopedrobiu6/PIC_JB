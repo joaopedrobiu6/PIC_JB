{
 "cells": [
  {
   "cell_type": "code",
   "execution_count": 5,
   "metadata": {},
   "outputs": [],
   "source": [
    "from simsopt.geo import SurfaceRZFourier, CurveXYZFourier\n",
    "import numpy as np"
   ]
  },
  {
   "cell_type": "code",
   "execution_count": 2,
   "metadata": {},
   "outputs": [
    {
     "name": "stdout",
     "output_type": "stream",
     "text": [
      "9\n"
     ]
    }
   ],
   "source": [
    "mpol=1\n",
    "ntor=1\n",
    "num_dofs = 2*(mpol+1)*(2*ntor+1) - ntor - (ntor+1)\n",
    "print(num_dofs)"
   ]
  },
  {
   "cell_type": "code",
   "execution_count": 11,
   "metadata": {},
   "outputs": [],
   "source": [
    "quadpoints_theta = np.linspace(0, 2*np.pi, 1000)\n",
    "quadpoints_phi = np.linspace(0, 2*np.pi, 1000)\n",
    "surface_dofs = {1, 0, 0, 0, 0, 0, 0, 0, 0}\n",
    "surface = SurfaceRZFourier(mpol=mpol, ntor=ntor, nfp = 3, stellsym = True, quadpoints_phi=quadpoints_phi, quadpoints_theta=quadpoints_theta)"
   ]
  },
  {
   "cell_type": "code",
   "execution_count": 14,
   "metadata": {},
   "outputs": [],
   "source": [
    "surface.plot(\"plotly\")"
   ]
  }
 ],
 "metadata": {
  "kernelspec": {
   "display_name": "Python 3",
   "language": "python",
   "name": "python3"
  },
  "language_info": {
   "codemirror_mode": {
    "name": "ipython",
    "version": 3
   },
   "file_extension": ".py",
   "mimetype": "text/x-python",
   "name": "python",
   "nbconvert_exporter": "python",
   "pygments_lexer": "ipython3",
   "version": "3.10.4"
  },
  "orig_nbformat": 4
 },
 "nbformat": 4,
 "nbformat_minor": 2
}
